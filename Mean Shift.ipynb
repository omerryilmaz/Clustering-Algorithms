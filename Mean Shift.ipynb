{
 "cells": [
  {
   "cell_type": "code",
   "execution_count": 4,
   "id": "b712a96a",
   "metadata": {},
   "outputs": [
    {
     "name": "stdout",
     "output_type": "stream",
     "text": [
      "clusters ( 5 ):  [{'centroid': array([-3.02, -4.08]), 'frequency': array([14., 14., 10., 24., 21., 29.,  0.,  0.,  0.,  0.,  0.,  0.,  0.,\n",
      "        0.,  0.,  0.,  0.,  0.,  0.,  0.,  0.,  0.,  0.,  0.,  0.,  0.,\n",
      "        0.,  0.,  0.,  0.])}, {'centroid': array([-1.52222222, -1.66666667]), 'frequency': array([ 0.,  0.,  0.,  0.,  0.,  0., 25., 18., 16., 29., 23., 29., 41.,\n",
      "       32., 43.,  0.,  0.,  0.,  0.,  0.,  0.,  0.,  0.,  0.,  0.,  0.,\n",
      "        0.,  0.,  0.,  0.])}, {'centroid': array([0.81666667, 3.11666667]), 'frequency': array([ 0.,  0.,  0.,  0.,  0.,  0.,  0.,  0.,  0.,  0.,  0.,  0.,  0.,\n",
      "        0.,  0., 16., 33., 32., 16., 14., 16.,  0., 37.,  0., 45., 23.,\n",
      "       29., 60.,  0.,  0.])}, {'centroid': array([1.8       , 1.37142857]), 'frequency': array([ 0.,  0.,  0.,  0.,  0.,  0.,  0.,  0.,  0.,  0.,  0.,  0.,  0.,\n",
      "        0.,  0.,  0.,  0.,  0.,  0.,  0.,  0., 25.,  0., 29.,  0.,  0.,\n",
      "        0.,  0.,  0.,  0.])}, {'centroid': array([5.85, 1.6 ]), 'frequency': array([0., 0., 0., 0., 0., 0., 0., 0., 0., 0., 0., 0., 0., 0., 0., 0., 0.,\n",
      "       0., 0., 0., 0., 0., 0., 0., 0., 0., 0., 0., 4., 4.])}]\n"
     ]
    },
    {
     "data": {
      "image/png": "[encoded data removed]",
      "text/plain": [
       "<Figure size 360x360 with 1 Axes>"
      ]
     },
     "metadata": {
      "needs_background": "light"
     },
     "output_type": "display_data"
    }
   ],
   "source": [
    "import numpy as np\n",
    "import matplotlib.pyplot as plt\n",
    " \n",
    "X = np.array([\n",
    "    [-4, -3.5], [-3.5, -5], [-2.7, -4.5],\n",
    "    [-2, -4.5], [-2.9, -2.9], [-0.4, -4.5],\n",
    "    [-1.4, -2.5], [-1.6, -2], [-1.5, -1.3],\n",
    "    [-0.5, -2.1], [-0.6, -1], [0, -1.6],\n",
    "    [-2.8, -1], [-2.4, -0.6], [-3.5, 0],\n",
    "    [-0.2, 4], [0.9, 1.8], [1, 2.2],\n",
    "    [1.1, 2.8], [1.1, 3.4], [1, 4.5],\n",
    "    [1.8, 0.3], [2.2, 1.3], [2.9, 0],\n",
    "    [2.7, 1.2], [3, 3], [3.4, 2.8],\n",
    "    [3, 5], [5.4, 1.2], [6.3, 2]\n",
    "])\n",
    " \n",
    " \n",
    "def mean_shift(data, radius=2.0):\n",
    "    clusters = []\n",
    "    for i in range(len(data)):\n",
    "        cluster_centroid = data[i]\n",
    "        cluster_frequency = np.zeros(len(data))\n",
    " \n",
    "        # Daire içindeki noktaları arıyoruz\n",
    "        while True:\n",
    "            temp_data = []\n",
    "            for j in range(len(data)):\n",
    "                v = data[j]\n",
    "                \n",
    "                if np.linalg.norm(v - cluster_centroid) <= radius:\n",
    "                    temp_data.append(v)\n",
    "                    cluster_frequency[i] += 1\n",
    " \n",
    "            # Merkezleri güncelliyoruz\n",
    "            old_centroid = cluster_centroid\n",
    "            new_centroid = np.average(temp_data, axis=0)\n",
    "            cluster_centroid = new_centroid\n",
    "          \n",
    "            if np.array_equal(new_centroid, old_centroid):\n",
    "                break\n",
    " \n",
    "        \n",
    "        has_same_cluster = False\n",
    "        for cluster in clusters:\n",
    "            if np.linalg.norm(cluster['centroid'] - cluster_centroid) <= radius:\n",
    "                has_same_cluster = True\n",
    "                cluster['frequency'] = cluster['frequency'] + cluster_frequency\n",
    "                break\n",
    " \n",
    "        if not has_same_cluster:\n",
    "            clusters.append({\n",
    "                'centroid': cluster_centroid,\n",
    "                'frequency': cluster_frequency\n",
    "            })\n",
    " \n",
    "    print('clusters (', len(clusters), '): ', clusters)\n",
    "    clustering(data, clusters)\n",
    "    show_clusters(clusters, radius)\n",
    " \n",
    " \n",
    "\n",
    "def clustering(data, clusters):\n",
    "    t = []\n",
    "    for cluster in clusters:\n",
    "        cluster['data'] = []\n",
    "        t.append(cluster['frequency'])\n",
    "    t = np.array(t)\n",
    "\n",
    "    for i in range(len(data)):\n",
    "        column_frequency = t[:, i]\n",
    "        cluster_index = np.where(column_frequency == np.max(column_frequency))[0][0]\n",
    "        clusters[cluster_index]['data'].append(data[i])\n",
    " \n",
    " \n",
    "def show_clusters(clusters, radius):\n",
    "    colors = 10 * ['r', 'g', 'b', 'k', 'y']\n",
    "    plt.figure(figsize=(5, 5))\n",
    "    plt.xlim((-8, 8))\n",
    "    plt.ylim((-8, 8))\n",
    "    plt.scatter(X[:, 0], X[:, 1], s=20)\n",
    "    theta = np.linspace(0, 2 * np.pi, 800)\n",
    "    for i in range(len(clusters)):\n",
    "        cluster = clusters[i]\n",
    "        data = np.array(cluster['data'])\n",
    "        plt.scatter(data[:, 0], data[:, 1], color=colors[i], s=20)\n",
    "        centroid = cluster['centroid']\n",
    "        plt.scatter(centroid[0], centroid[1], color=colors[i], marker='x', s=30)\n",
    "        x, y = np.cos(theta) * radius + centroid[0], np.sin(theta) * radius + centroid[1]\n",
    "        plt.plot(x, y, linewidth=1, color=colors[i])\n",
    "    plt.show()\n",
    " \n",
    " \n",
    "mean_shift(X, 2)"
   ]
  },
  {
   "cell_type": "code",
   "execution_count": null,
   "id": "9f039114",
   "metadata": {},
   "outputs": [],
   "source": []
  }
 ],
 "metadata": {
  "kernelspec": {
   "display_name": "Python 3 (ipykernel)",
   "language": "python",
   "name": "python3"
  },
  "language_info": {
   "codemirror_mode": {
    "name": "ipython",
    "version": 3
   },
   "file_extension": ".py",
   "mimetype": "text/x-python",
   "name": "python",
   "nbconvert_exporter": "python",
   "pygments_lexer": "ipython3",
   "version": "3.9.7"
  }
 },
 "nbformat": 4,
 "nbformat_minor": 5
}
